{
 "cells": [
  {
   "cell_type": "markdown",
   "id": "bb3901c5-bb05-4725-a0fc-cf86bd63e9b8",
   "metadata": {},
   "source": [
    "# Python for Data Science, AI & Development [Coursera](https://www.coursera.org/learn/python-for-applied-data-science-ai/)"
   ]
  },
  {
   "cell_type": "markdown",
   "id": "72a341c3-b3e7-4597-b53e-68eef63eb629",
   "metadata": {},
   "source": [
    "<details>\r\n",
    "<summary>There are 5 modules in this course) </summary>\n",
    "    \r\n",
    "Kickstart your learning of Python with this beginner-friendly self-paced course taught by an expert. Python is one of the most popular languages in the programming and data science world and demand for individuals who have the ability to apply Python has never been higher.  \r\n",
    "\r\n",
    "This introduction to Python course will take you from zero to programming in Python in a matter of hours—no prior programming experience necessary! You will learn about Python basics and the different data types. You will familiarize yourself with Python Data structures like List and Tuples, as well as logic concepts like conditions and branching. You will use Python libraries such as Pandas, Numpy & Beautiful Soup. You’ll also use Python to perform tasks such as data collection and web scraping with APIs.  \r\n",
    "\r\n",
    "You will practice and apply what you learn through hands-on labs using Jupyter Notebooks. By the end of this course, you’ll feel comfortable creating basic programs, working with data, and automating real-world tasks using Python.  \r\n",
    "\r\n",
    "This course is suitable for anyone who wants to learn Data Science, Data Analytics, Software Development, Data Engineering, AI, and DevOps as well as a number of other job roles....\r\n",
    "</details>"
   ]
  },
  {
   "cell_type": "markdown",
   "id": "2a6cef4e-8f25-44d9-947e-7e6c37785952",
   "metadata": {},
   "source": [
    "## Python Basics (Week-1)\n",
    "\n",
    "This module teaches the basics of Python and begins by exploring some of the different data types such as integers, real numbers, and strings. Continue with the module and learn how to use expressions in mathematical operations, store values in variables, and the many different ways to manipulate strings.\n",
    "\n",
    "### Learning Objectives\n",
    "<hr>\n",
    "<ul>\n",
    "    <li>Demonstrate an understanding of types in Python by converting or casting data types such as strings, floats, and integers.</li>\n",
    "    <li>Interpret variables and solve expressions by applying mathematical operations.</li>\n",
    "    <li>Describe how to manipulate strings by using a variety of methods and operations.</li>\n",
    "    <li>Build a program in JupyterLab to demonstrate your knowledge of types, expressions, and variables.</li>\n",
    "    <li>Work with, manipulate, and perform operations on strings in Python.</li>\n",
    "</ul>\n",
    "\n",
    "<details>\n",
    "<summary> About this course </summary>\n",
    "    This course was designed to provide the building blocks for Python programming and data collection for those choosing a career in Data Science, Data Engineering, AI or Application Development. \n",
    "\n",
    "Initially conceived as a foundation course for Data Science and AI it has been refreshed several times to keep pace with emerging career options. Additional content has been added which is applicable to Data Science, Data Engineering, AI or Application Development. \n",
    "\n",
    "After completing this course you will have learned foundational skills in Python programming which you can then go on to apply in the Python Project course for your chosen career.  The Python Project courses involve real world scenarios where you are in charge of a final project as a Data Scientist, a Data Engineer, or in AI and Application Development. By finishing this course and your follow-on Python Project, you will gain the basic skills to continue the steps on your chosen career path.  \n",
    "\n",
    "Note: This course is a pre-requisite for the Python Project courses and should be completed in full before attempting the appropriate Python Project course. </details>"
   ]
  },
  {
   "cell_type": "markdown",
   "id": "b957f83e-aa02-4bec-9d76-1c414c616085",
   "metadata": {},
   "source": [
    "## Python Data Structures (Week-2)\n",
    "\n",
    "This module begins a journey into Python data structures by explaining the use of lists and tuples and how they are able to store collections of data in a single variable. Next learn about dictionaries and how they function by storing data in pairs of keys and values, and end with Python sets to learn how this type of collection can appear in any order and will only contain unique elements.\n",
    "\n",
    "### Learning Objectives\n",
    "<ul>\n",
    "    <li>Describe and manipulate tuple combinations and list data structures.</li>\n",
    "    <li>Execute basic tuple operations in Python.</li>\n",
    "    <li>Perform list operations in Python.</li>\n",
    "    <li>Write structures with correct keys and values to demonstrate understanding of dictionaries.</li>\n",
    "    <li>Work with and perform operations on dictionaries in Python.</li>\n",
    "    <li>Create sets to demonstrate understanding of the differences between sets, tuples, and lists.</li>\n",
    "    <li>Work with sets in Python, including operations and logic operations</li>\n",
    "</ul>\n",
    "\n",
    "### Topics to Learn\n",
    "<ol>\n",
    "    <li>Lists & Tuples</li>\n",
    "    <li>Dictionaries</li>\n",
    "    <li>Sets</li>\n",
    "</ol>\n",
    "\n",
    "\n",
    "\n",
    "\n"
   ]
  },
  {
   "cell_type": "markdown",
   "id": "cfc9737a-00db-44ea-9eb1-b2ae79a9f077",
   "metadata": {},
   "source": [
    "## PYthon Programming Fundamentals (Week-3) \n",
    "\n",
    "This module discusses Python fundamentals and begins with the concepts of conditions and branching. Continue through the module and learn how to implement loops to iterate over sequences, create functions to perform a specific task, perform exception handling to catch errors, and how classes are needed to create objects.\n",
    "\n",
    "### Learning Objectives\n",
    "<ul>\n",
    "    <li>Classify conditions and branching by identifying structured scenarios with outputs.</li>\n",
    "    <li>Work with objects and classes.</li>\n",
    "    <li>Explain objects and classes by identifying data types and creating a class.</li>\n",
    "    <li>Use exception handling in Python.</li>\n",
    "    <li>Explain what functions do.</li>\n",
    "    <li>Build a function using inputs and outputs.</li>\n",
    "    <li>Explain how for loops and while loops work.</li>\n",
    "    <li>Work with condition statements in Python, including operators and branching.</li>\n",
    "    <li>Create and use loop statements in Python.</li>\n",
    "</ul>\n",
    "\n",
    "### Topics to Learn\n",
    "<ol>\n",
    "    <li>Conditions and Branching</li>\n",
    "    <li>Loops</li>\n",
    "    <li>Functions</li>\n",
    "    <li>Exception Handling</li>\n",
    "    <li>Object and Classes</li>\n",
    "</ol>\n",
    "\n",
    "\n",
    "\n",
    "\n",
    "\n"
   ]
  },
  {
   "cell_type": "markdown",
   "id": "050197fb-55e0-4826-ae54-4c1439d8aa6b",
   "metadata": {},
   "source": [
    "Python Programming Fundamentals"
   ]
  },
  {
   "cell_type": "markdown",
   "id": "34aa138e-23e4-4ed2-ad4c-e81d2ef3a883",
   "metadata": {},
   "source": [
    "## Working with Data in Pyhon (Week-4)\n",
    "\n",
    "This module explains the basics of working with data in Python and begins the path with learning how to read and write files. Continue the module and uncover the best Python libraries that will aid in data manipulation and mathematical operations.\n",
    "\n",
    "### Learning Objectives\n",
    "<ul>\n",
    "    <li>Explain how Pandas use data frames.</li>\n",
    "    <li>Use Pandas library for data analysis.</li>\n",
    "    <li>Read text files using Python libraries including \"open\" and \"with\".</li>\n",
    "    <li>Utilize NumPy to create one-dimensional and two-dimensional arrays.</li>\n",
    "    <li>Write and save files in Python.</li>\n",
    "</ul>\n",
    "\n",
    "### Topics to Learn\n",
    "<ol>\n",
    "    <li>Reading and Writing Files with Open</li>\n",
    "    <li>Pandas</li>\n",
    "    <li>NumPy in Python</li>\n",
    "</ol>\n",
    "\n",
    "\n",
    "\n"
   ]
  },
  {
   "cell_type": "markdown",
   "id": "ade706bc-d33a-4ca7-8319-a6b5572fc7e5",
   "metadata": {},
   "source": [
    "## APIs and Data-Collections"
   ]
  },
  {
   "cell_type": "code",
   "execution_count": null,
   "id": "5f9f6863-8888-463a-9c4e-8a957035278c",
   "metadata": {},
   "outputs": [],
   "source": []
  }
 ],
 "metadata": {
  "kernelspec": {
   "display_name": "Python 3 (ipykernel)",
   "language": "python",
   "name": "python3"
  },
  "language_info": {
   "codemirror_mode": {
    "name": "ipython",
    "version": 3
   },
   "file_extension": ".py",
   "mimetype": "text/x-python",
   "name": "python",
   "nbconvert_exporter": "python",
   "pygments_lexer": "ipython3",
   "version": "3.8.17"
  }
 },
 "nbformat": 4,
 "nbformat_minor": 5
}
